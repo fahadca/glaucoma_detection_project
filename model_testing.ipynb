{
 "cells": [
  {
   "cell_type": "code",
   "execution_count": 8,
   "id": "0a6615e4-9c69-40f0-9897-8fe96758c4cc",
   "metadata": {},
   "outputs": [
    {
     "name": "stderr",
     "output_type": "stream",
     "text": [
      "WARNING:absl:Compiled the loaded model, but the compiled metrics have yet to be built. `model.compile_metrics` will be empty until you train or evaluate the model.\n"
     ]
    },
    {
     "name": "stdout",
     "output_type": "stream",
     "text": [
      "model loaded\n"
     ]
    }
   ],
   "source": [
    "from keras.models import load_model\n",
    "import numpy as np\n",
    "model=load_model('glaucoma_detection1.h5')\n",
    "print(\"model loaded\")"
   ]
  },
  {
   "cell_type": "code",
   "execution_count": 12,
   "id": "3354dc5b-93c7-474a-ab59-f3ba123d27ca",
   "metadata": {},
   "outputs": [],
   "source": [
    "from keras.preprocessing.image import load_img\n",
    "from keras.preprocessing.image import img_to_array"
   ]
  },
  {
   "cell_type": "code",
   "execution_count": 39,
   "id": "9fa409ae-388c-47ed-89f7-720de9a3461d",
   "metadata": {},
   "outputs": [],
   "source": [
    "def predict_glaucoma(test_image):\n",
    "  image = img_to_array(test_image)\n",
    "  image = np.expand_dims(image, axis = 0)\n",
    "  image /= 255.\n",
    "  result = model.predict(image)\n",
    "  return result"
   ]
  },
  {
   "cell_type": "code",
   "execution_count": 40,
   "id": "834590b6-c001-4b46-940b-4c931dd321f5",
   "metadata": {},
   "outputs": [
    {
     "name": "stdout",
     "output_type": "stream",
     "text": [
      "\u001b[1m1/1\u001b[0m \u001b[32m━━━━━━━━━━━━━━━━━━━━\u001b[0m\u001b[37m\u001b[0m \u001b[1m0s\u001b[0m 40ms/step\n",
      "Glaucoma\n"
     ]
    }
   ],
   "source": [
    "test_image = load_img('split_dataset/test/glaucoma/r3_G-31-R_left_half.png', target_size = (256,256))\n",
    "prediction = predict_glaucoma(test_image)\n",
    "\n",
    "if prediction < 0.5:\n",
    "    print(\"Glaucoma\")\n",
    "else:\n",
    "    print(\"Normal\")"
   ]
  },
  {
   "cell_type": "code",
   "execution_count": 43,
   "id": "8edac43a-121b-4917-acac-04a734cc6133",
   "metadata": {},
   "outputs": [
    {
     "name": "stdout",
     "output_type": "stream",
     "text": [
      "\u001b[1m1/1\u001b[0m \u001b[32m━━━━━━━━━━━━━━━━━━━━\u001b[0m\u001b[37m\u001b[0m \u001b[1m0s\u001b[0m 43ms/step\n",
      "Normal\n"
     ]
    }
   ],
   "source": [
    "test_image = load_img('split_dataset/test/normal/0284.jpg', target_size = (256,256))\n",
    "prediction = predict_glaucoma(test_image)\n",
    "\n",
    "if prediction < 0.5:\n",
    "    print(\"Glaucoma\")\n",
    "else:\n",
    "    print(\"Normal\")"
   ]
  },
  {
   "cell_type": "code",
   "execution_count": null,
   "id": "2f4636a8-be92-4221-a73c-d5ac5bfdc55f",
   "metadata": {},
   "outputs": [],
   "source": []
  }
 ],
 "metadata": {
  "kernelspec": {
   "display_name": "Python 3 (ipykernel)",
   "language": "python",
   "name": "python3"
  },
  "language_info": {
   "codemirror_mode": {
    "name": "ipython",
    "version": 3
   },
   "file_extension": ".py",
   "mimetype": "text/x-python",
   "name": "python",
   "nbconvert_exporter": "python",
   "pygments_lexer": "ipython3",
   "version": "3.12.0"
  }
 },
 "nbformat": 4,
 "nbformat_minor": 5
}
